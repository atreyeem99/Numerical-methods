{
 "cells": [
  {
   "cell_type": "markdown",
   "id": "179a4c98-6b15-4ec7-940e-3f90d1726082",
   "metadata": {},
   "source": [
    "1) alpha=xTY"
   ]
  },
  {
   "cell_type": "code",
   "execution_count": 11,
   "id": "e8675cd4-6dbe-4342-bb96-e136b52fb701",
   "metadata": {},
   "outputs": [
    {
     "name": "stdout",
     "output_type": "stream",
     "text": [
      "[32]\n"
     ]
    }
   ],
   "source": [
    "import numpy as np\n",
    "def dot_product_vector_column(vector, column):\n",
    "    \"\"\"Compute the dot product of a vector and a column.\"\"\"\n",
    "    return np.dot(vector, column)\n",
    "vector1= np.array([1,2,3])\n",
    "vector1_transpose=np.transpose(vector1)\n",
    "column = np.array([[4], [5], [6]])\n",
    "\n",
    "result = dot_product_vector_column(vector1_transpose, column)\n",
    "print(result)\n",
    "\n",
    "#flop count\n"
   ]
  },
  {
   "cell_type": "code",
   "execution_count": 6,
   "id": "fa5a74c0-dd9a-4537-b955-068169056ccf",
   "metadata": {},
   "outputs": [
    {
     "name": "stdout",
     "output_type": "stream",
     "text": [
      "6\n"
     ]
    }
   ],
   "source": [
    "#flop count\n",
    "def flop_count(dim):\n",
    "    return 2*dim\n",
    "dim = len(vector1)\n",
    "flop_count = flop_count(dim)\n",
    "print(flop_count)"
   ]
  },
  {
   "cell_type": "markdown",
   "id": "e9cbd932-241d-4e25-a8b2-043d1a39cebb",
   "metadata": {},
   "source": [
    "2) saxpy"
   ]
  },
  {
   "cell_type": "code",
   "execution_count": 7,
   "id": "8ace669a-1fac-4b49-89b2-73f5b8fa5a81",
   "metadata": {},
   "outputs": [
    {
     "name": "stdout",
     "output_type": "stream",
     "text": [
      "Result of SAXPY operation: [ 6.  9. 12.]\n",
      "Flop count for SAXPY operation: 6\n"
     ]
    }
   ],
   "source": [
    "import numpy as np\n",
    "\n",
    "def saxpy(alpha, vector_x, vector_y):\n",
    "    \"\"\"Compute the SAXPY operation: alpha * vector_x + vector_y.\"\"\"\n",
    "    return alpha * vector_x + vector_y\n",
    "\n",
    "def flop_count_saxpy(dim):\n",
    "    \"\"\"Calculate the floating-point operations (flops) for a SAXPY operation\n",
    "    with vectors of dimension `dim`.\"\"\"\n",
    "    return 2 * dim  # Flop count for SAXPY operation\n",
    "\n",
    "# Example usage:\n",
    "alpha = 2.0\n",
    "vector_x = np.array([1, 2, 3])\n",
    "vector_y = np.array([4, 5, 6])\n",
    "\n",
    "result = saxpy(alpha, vector_x, vector_y)\n",
    "print(\"Result of SAXPY operation:\", result)\n",
    "\n",
    "# Calculate flop count for SAXPY operation\n",
    "dim = len(vector_x)\n",
    "flop_count = flop_count_saxpy(dim)\n",
    "print(\"Flop count for SAXPY operation:\", flop_count)\n"
   ]
  },
  {
   "cell_type": "markdown",
   "id": "0ba89948-43e3-4e7a-a410-45627d4a9ec9",
   "metadata": {},
   "source": [
    "3) gaxpy"
   ]
  },
  {
   "cell_type": "code",
   "execution_count": 9,
   "id": "e1f2cc37-a91a-470c-8c14-8807a5b6ca70",
   "metadata": {},
   "outputs": [
    {
     "name": "stdout",
     "output_type": "stream",
     "text": [
      "Result of GAXPY operation: [ 6.  9. 12.]\n",
      "Flop count for GAXPY operation: 6\n"
     ]
    }
   ],
   "source": [
    "import numpy as np\n",
    "\n",
    "def gaxpy(alpha, vector_x, vector_y):\n",
    "    \"\"\"Compute the GAXPY operation: alpha * vector_x + vector_y.\"\"\"\n",
    "    return alpha * vector_x + vector_y\n",
    "\n",
    "def flop_count_gaxpy(dim):\n",
    "    \"\"\"Calculate the floating-point operations (flops) for a GAXPY operation\n",
    "    with vectors of dimension `dim`.\"\"\"\n",
    "    return 2 * dim  # Flop count for GAXPY operation\n",
    "\n",
    "# Example usage:\n",
    "alpha = 2.0\n",
    "vector_x = np.array([1, 2, 3])\n",
    "vector_y = np.array([4, 5, 6])\n",
    "\n",
    "result = gaxpy(alpha, vector_x, vector_y)\n",
    "print(\"Result of GAXPY operation:\", result)\n",
    "\n",
    "# Calculate flop count for GAXPY operation\n",
    "dim = len(vector_x)\n",
    "flop_count = flop_count_gaxpy(dim)\n",
    "print(\"Flop count for GAXPY operation:\", flop_count)\n"
   ]
  },
  {
   "cell_type": "code",
   "execution_count": null,
   "id": "354df8e3-e4fa-4a28-88e9-5f36f2e76461",
   "metadata": {},
   "outputs": [],
   "source": [
    "import numpy as np\n",
    "\n",
    "def outer_product(vector_x, vector_y):\n",
    "    \"\"\"Compute the outer product of two vectors.\"\"\"\n",
    "    return np.outer(vector_x, vector_y)\n"
   ]
  },
  {
   "cell_type": "code",
   "execution_count": 12,
   "id": "cb2ea6d8-6c82-4c90-8d87-39e00d3cdf8c",
   "metadata": {},
   "outputs": [
    {
     "name": "stdout",
     "output_type": "stream",
     "text": [
      "Result of adding matrix A with the outer product of vectors u and v:\n",
      "[[0.0752852  0.95606624 0.10739347 0.19238578]\n",
      " [0.54439102 0.40632201 0.74575894 0.1540397 ]\n",
      " [0.26036908 0.73872797 1.01313921 0.63235061]]\n",
      "Flop count for adding matrix with outer product: 12\n"
     ]
    }
   ],
   "source": [
    "import numpy as np\n",
    "\n",
    "def add_matrix_outer_product(matrix_a, vector_u, vector_v):\n",
    "    \"\"\"Add a matrix A with the outer product of vectors u and v.\"\"\"\n",
    "    outer_product_uv = np.outer(vector_u, vector_v)\n",
    "    return matrix_a + outer_product_uv\n",
    "\n",
    "def flop_count_add_matrix_outer_product(n, m):\n",
    "    \"\"\"Calculate the floating-point operations (flops) for adding a matrix with\n",
    "    the outer product of vectors of dimensions nx1 and mx1.\"\"\"\n",
    "    return n * m  # Flop count for adding a matrix with the outer product\n",
    "\n",
    "n, m = 3, 4  # Dimensions of the matrix\n",
    "matrix_a = np.random.random((n, m))\n",
    "vector_u = np.random.random((n, 1))\n",
    "vector_v = np.random.random((m, 1))\n",
    "vector_v_transpose=np.transpose(vector_v)\n",
    "\n",
    "result = add_matrix_outer_product(matrix_a, vector_u, vector_v_transpose)\n",
    "print(\"Result of adding matrix A with the outer product of vectors u and v:\")\n",
    "print(result)\n",
    "\n",
    "# Calculate flop count for adding matrix with outer product\n",
    "flop_count = flop_count_add_matrix_outer_product(n, m)\n",
    "print(\"Flop count for adding matrix with outer product:\", flop_count)\n"
   ]
  },
  {
   "cell_type": "code",
   "execution_count": 1,
   "id": "9130b9cd-7018-4111-bebe-9d05e18f4c3a",
   "metadata": {},
   "outputs": [
    {
     "name": "stdout",
     "output_type": "stream",
     "text": [
      "Result of adding matrix A with the outer product of vectors u and v:\n",
      "[[0.63468111 0.70592813 1.10274206 0.99535798]\n",
      " [1.227124   1.2652945  1.00206297 0.80182799]\n",
      " [0.50693869 1.217705   0.867422   1.18225052]]\n",
      "Flop count for adding matrix with outer product: 48\n"
     ]
    }
   ],
   "source": [
    "import numpy as np\n",
    "\n",
    "def add_matrix_outer_product(matrix_a, vector_u, vector_v):\n",
    "    \"\"\"Add a matrix A with the outer product of vectors u and v.\"\"\"\n",
    "    outer_product_uv = np.dot(vector_u, vector_v)\n",
    "    return matrix_a + outer_product_uv\n",
    "\n",
    "def flop_count_add_matrix_outer_product(n, m, r):\n",
    "    \"\"\"Calculate the floating-point operations (flops) for adding a matrix with\n",
    "    the outer product of vectors of dimensions nxr and rxm.\"\"\"\n",
    "    return 2 * n * m * r  # Flop count for adding a matrix with the outer product\n",
    "\n",
    "# Example usage:\n",
    "n, m, r = 3, 4, 2  # Dimensions of the matrix and vectors\n",
    "matrix_a = np.random.random((n, m))\n",
    "vector_u = np.random.random((n, r))\n",
    "vector_v = np.random.random((r, m))\n",
    "\n",
    "result = add_matrix_outer_product(matrix_a, vector_u, vector_v)\n",
    "print(\"Result of adding matrix A with the outer product of vectors u and v:\")\n",
    "print(result)\n",
    "\n",
    "# Calculate flop count for adding matrix with outer product\n",
    "flop_count = flop_count_add_matrix_outer_product(n, m, r)\n",
    "print(\"Flop count for adding matrix with outer product:\", flop_count)\n"
   ]
  },
  {
   "cell_type": "code",
   "execution_count": 14,
   "id": "85649017-1cfc-456a-88b8-bdffd8507017",
   "metadata": {},
   "outputs": [],
   "source": [
    "import numpy as np\n",
    "def count_flop_Case5(A,B,C,D):\n",
    "    n=np.shape(A)[0]\n",
    "    m=np.shape(A)[1]\n",
    "    s=np.shape(B)[1]\n",
    "    r=np.shape(B)[1]\n",
    "    temp=np.zeros((n,m))\n",
    "    flop=0\n",
    "    for i in range(n):\n",
    "        for j in range(m):\n",
    "            for k in range(r):\n",
    "                for l in range(s):\n",
    "                     temp[i,j]=B[i,l]*C[l,k]*D[k,j]\n",
    "                     flop=flop+2\n",
    "                A[i,j]=A[i,j]+temp[i,j]\n",
    "                flop=flop+1\n",
    "    return A,flop "
   ]
  },
  {
   "cell_type": "code",
   "execution_count": 15,
   "id": "3c42b098-ef94-4be5-96cd-c0ad08f0dc32",
   "metadata": {},
   "outputs": [],
   "source": [
    "n=20\n",
    "m=12\n",
    "s=12\n",
    "r=12 \n",
    "A=np.random.random((n,m))\n",
    "B=np.random.random((n,r))\n",
    "C=np.random.random((r,s))\n",
    "D=np.random.random((s,m))\n",
    "a_new,flop=count_flop_Case5(A,B,C,D)"
   ]
  },
  {
   "cell_type": "code",
   "execution_count": 16,
   "id": "78f6a14c-5cb7-4d7e-a8a8-5162d5f8adb7",
   "metadata": {},
   "outputs": [
    {
     "name": "stdout",
     "output_type": "stream",
     "text": [
      "72000\n"
     ]
    }
   ],
   "source": [
    "print(flop)"
   ]
  },
  {
   "cell_type": "code",
   "execution_count": 13,
   "id": "428f7b62-db6a-472a-9d37-c77898b6ab1f",
   "metadata": {},
   "outputs": [
    {
     "name": "stdout",
     "output_type": "stream",
     "text": [
      "11280\n"
     ]
    }
   ],
   "source": [
    "print(n*m*(2*r+2*s-1))"
   ]
  },
  {
   "cell_type": "code",
   "execution_count": null,
   "id": "08f0d128-c43a-4e00-9f41-6699ac9557a5",
   "metadata": {},
   "outputs": [],
   "source": []
  }
 ],
 "metadata": {
  "kernelspec": {
   "display_name": "Python 3 (ipykernel)",
   "language": "python",
   "name": "python3"
  },
  "language_info": {
   "codemirror_mode": {
    "name": "ipython",
    "version": 3
   },
   "file_extension": ".py",
   "mimetype": "text/x-python",
   "name": "python",
   "nbconvert_exporter": "python",
   "pygments_lexer": "ipython3",
   "version": "3.10.12"
  }
 },
 "nbformat": 4,
 "nbformat_minor": 5
}
