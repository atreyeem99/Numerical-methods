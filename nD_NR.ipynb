{
 "cells": [
  {
   "cell_type": "code",
   "execution_count": 1,
   "id": "5c304557",
   "metadata": {},
   "outputs": [],
   "source": [
    "import numpy as np"
   ]
  },
  {
   "cell_type": "code",
   "execution_count": 2,
   "id": "f716c71f",
   "metadata": {},
   "outputs": [],
   "source": [
    "def NewtonRaphson_nD(X0,fnF,fnJ,maxiter,maxeval,xthresh,iprint):\n",
    "    \n",
    "    iiter=0\n",
    "    ieval=0\n",
    "    \n",
    "    N=len(X0)\n",
    "    \n",
    "    X1=np.zeros(N)\n",
    "    \n",
    "    F=np.zeros(N,float)\n",
    "    J=np.zeros([N,N],float)\n",
    "    Jinv=np.zeros([N,N],float)\n",
    " \n",
    "    dx=999.0\n",
    "    \n",
    "    while dx > xthresh:\n",
    "                \n",
    "        F=fnF(X0)\n",
    "        ieval=ieval+N\n",
    "        \n",
    "        J=fnJ(X0)\n",
    "        ieval=ieval+N**2\n",
    "                \n",
    "        Jinv = np.linalg.inv(J)\n",
    "\n",
    "        X1 = X0 - np.dot(Jinv,F)\n",
    "        \n",
    "        # converge the maximum component in X0-X1\n",
    "        dx=max(abs(X0-X1))\n",
    "        \n",
    "        if iprint == 1:\n",
    "            print('{:6d}{:6d}{:17.8e} x='.format(iiter, ieval, dx))\n",
    "            for iX in X0:\n",
    "                print('{:17.8e}'.format(iX))\n",
    "        \n",
    "        if iiter >= maxiter:\n",
    "            print('Exiting fixed-point iteration, maximum function evaluations reached')\n",
    "            break\n",
    "            \n",
    "        iiter=iiter+1\n",
    "        \n",
    "        if iiter >= maxiter:\n",
    "            print('Exiting Newton-Raphson, maximum iterations reached')\n",
    "            break\n",
    "            \n",
    "        if ieval >= maxeval:\n",
    "            print('Exiting Newton-Raphson, maximum function evaluations reached')\n",
    "            break\n",
    "        \n",
    "        X0 = X1\n",
    "        \n",
    "    print('Exiting Newton-Raphson, convergence reached')  \n",
    "    return X1"
   ]
  },
  {
   "cell_type": "code",
   "execution_count": 3,
   "id": "ef0da25b",
   "metadata": {},
   "outputs": [],
   "source": [
    "def fnF(X):\n",
    "    x1=X[0]\n",
    "    x2=X[1]\n",
    "    \n",
    "    N=len(X)\n",
    "    \n",
    "    Fvec=np.zeros(N)\n",
    "    \n",
    "    Fvec[0] = x1**2 + x2**2 - x1\n",
    "    Fvec[1] = x1**2 - x2**2 - x2\n",
    "    \n",
    "    return Fvec"
   ]
  },
  {
   "cell_type": "code",
   "execution_count": 4,
   "id": "7d348f3d",
   "metadata": {},
   "outputs": [],
   "source": [
    "def fnJ(X):\n",
    "    x1=X[0]\n",
    "    x2=X[1]\n",
    "    \n",
    "    N=len(X)\n",
    "    \n",
    "    Jmat=np.zeros([N,N])\n",
    "    \n",
    "    Jmat[0][0] = 2*x1-1\n",
    "    Jmat[0][1] = 2*x2\n",
    "    Jmat[1][0] = 2*x1\n",
    "    Jmat[1][1] = -2*x2-1\n",
    "    \n",
    "    return Jmat"
   ]
  },
  {
   "cell_type": "code",
   "execution_count": 5,
   "id": "1a016d5a",
   "metadata": {},
   "outputs": [
    {
     "name": "stdout",
     "output_type": "stream",
     "text": [
      "     0     6   2.24358974e-02 x=\n",
      "   7.50000000e-01\n",
      "   4.16666667e-01\n",
      "     1    12   5.90960904e-04 x=\n",
      "   7.72435897e-01\n",
      "   4.19871795e-01\n",
      "     2    18   4.30185707e-07 x=\n",
      "   7.71844937e-01\n",
      "   4.19643577e-01\n",
      "Exiting Newton-Raphson, convergence reached\n",
      "The solution is:  [0.77184451 0.41964338]\n"
     ]
    }
   ],
   "source": [
    "X0=np.array([3/4,5/12])\n",
    "maxiter=100\n",
    "maxeval=100\n",
    "xthresh=1e-6  # 10^-6\n",
    "iprint=1\n",
    "X=NewtonRaphson_nD(X0,fnF,fnJ,maxiter,maxeval,xthresh,iprint)\n",
    "print('The solution is: ',X)"
   ]
  },
  {
   "cell_type": "code",
   "execution_count": null,
   "id": "1feb78d8-d377-4b91-89e0-40b3eefd2c97",
   "metadata": {},
   "outputs": [],
   "source": []
  }
 ],
 "metadata": {
  "kernelspec": {
   "display_name": "Python 3 (ipykernel)",
   "language": "python",
   "name": "python3"
  },
  "language_info": {
   "codemirror_mode": {
    "name": "ipython",
    "version": 3
   },
   "file_extension": ".py",
   "mimetype": "text/x-python",
   "name": "python",
   "nbconvert_exporter": "python",
   "pygments_lexer": "ipython3",
   "version": "3.10.12"
  }
 },
 "nbformat": 4,
 "nbformat_minor": 5
}
