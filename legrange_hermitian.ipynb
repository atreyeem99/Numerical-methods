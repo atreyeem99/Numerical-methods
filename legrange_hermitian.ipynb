{
 "cells": [
  {
   "cell_type": "code",
   "execution_count": 1,
   "metadata": {},
   "outputs": [],
   "source": [
    "# 17/04/24"
   ]
  },
  {
   "cell_type": "code",
   "execution_count": 2,
   "metadata": {},
   "outputs": [],
   "source": [
    "import numpy as np"
   ]
  },
  {
   "cell_type": "code",
   "execution_count": 3,
   "metadata": {},
   "outputs": [],
   "source": [
    "x0=1.1\n",
    "x1=1.3\n",
    "def f(x):\n",
    "    return np.log(x)"
   ]
  },
  {
   "cell_type": "code",
   "execution_count": 4,
   "metadata": {},
   "outputs": [],
   "source": [
    "def f1(x):\n",
    "    return 1/x\n",
    "\n",
    "def f2(x):\n",
    "    return -1/x**2\n",
    "\n",
    "def f_lag(x):\n",
    "    return ((x-x0)*f(x0)/(x1-x0))+((x-x1)/(x0-x1))*f(x1)\n",
    "\n",
    "def R(x):\n",
    "    return np.abs(0.5*(x-x0)*(x-x1)*(-1/x0**2))\n",
    "\n"
   ]
  },
  {
   "cell_type": "code",
   "execution_count": 5,
   "metadata": {},
   "outputs": [
    {
     "name": "stdout",
     "output_type": "stream",
     "text": [
      "0.004132231404958675 0.17883722213590808\n"
     ]
    }
   ],
   "source": [
    "y=R(1.2)\n",
    "z=f_lag(1.2)\n",
    "print(y,z)"
   ]
  },
  {
   "cell_type": "code",
   "execution_count": 6,
   "metadata": {},
   "outputs": [],
   "source": [
    "#Hermite Polynomial"
   ]
  },
  {
   "cell_type": "code",
   "execution_count": 7,
   "metadata": {},
   "outputs": [
    {
     "name": "stdout",
     "output_type": "stream",
     "text": [
      "0.18233372563241138\n"
     ]
    }
   ],
   "source": [
    "h=x1-x0\n",
    "\n",
    "def u(x):\n",
    "    return (x-x0)/h\n",
    "\n",
    "\n",
    "\n",
    "a=f(x0)\n",
    "b=h*f1(x0)\n",
    "d=h*(f1(x1)+f1(x0))+2*(f(x0)-f(x1))\n",
    "c=-h*(2*f1(x0)+f1(x1))+3*(f(x1)-f(x0))\n",
    "\n",
    "def f_herm(x):\n",
    "    return a+b*u(x)+c*u(x)**2+d*u(x)**3\n",
    "\n",
    "y=f_herm(1.2)\n",
    "print(y)\n",
    "\n"
   ]
  },
  {
   "cell_type": "code",
   "execution_count": null,
   "metadata": {},
   "outputs": [],
   "source": []
  },
  {
   "cell_type": "code",
   "execution_count": 8,
   "metadata": {},
   "outputs": [
    {
     "name": "stdout",
     "output_type": "stream",
     "text": [
      "0.9273827727393142\n",
      "0.9320352050593389\n",
      "0.004132231404958675\n"
     ]
    }
   ],
   "source": [
    "x0=1.1\n",
    "x1=1.3\n",
    "\n",
    "def f(x):\n",
    "    return np.sin(x)\n",
    "\n",
    "def f1(x):\n",
    "    return np.cos(x)\n",
    "\n",
    "def f2(x):\n",
    "    return -np.sin(x)\n",
    "\n",
    "h=x1-x0\n",
    "\n",
    "def u(x):\n",
    "    return (x-x0)/h\n",
    "\n",
    "\n",
    "\n",
    "a=f(x0)\n",
    "b=h*f1(x0)\n",
    "d=h*(f1(x1)+f1(x0))+2*(f(x0)-f(x1))\n",
    "c=-h*(2*f1(x0)+f1(x1))+3*(f(x1)-f(x0))\n",
    "\n",
    "\n",
    "y=f_lag(1.2)\n",
    "print(y)\n",
    "z=f_herm(1.2)\n",
    "print(z)\n",
    "x=R(1.2)\n",
    "print(x)"
   ]
  },
  {
   "cell_type": "code",
   "execution_count": null,
   "metadata": {},
   "outputs": [],
   "source": []
  }
 ],
 "metadata": {
  "kernelspec": {
   "display_name": "Python 3 (ipykernel)",
   "language": "python",
   "name": "python3"
  },
  "language_info": {
   "codemirror_mode": {
    "name": "ipython",
    "version": 3
   },
   "file_extension": ".py",
   "mimetype": "text/x-python",
   "name": "python",
   "nbconvert_exporter": "python",
   "pygments_lexer": "ipython3",
   "version": "3.10.12"
  }
 },
 "nbformat": 4,
 "nbformat_minor": 4
}
