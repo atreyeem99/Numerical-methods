{
 "cells": [
  {
   "cell_type": "code",
   "execution_count": 1,
   "id": "4bac9e45-7dc1-4f3c-920f-85be0903f8a6",
   "metadata": {},
   "outputs": [
    {
     "name": "stdout",
     "output_type": "stream",
     "text": [
      "       message: Optimization terminated successfully.\n",
      "       success: True\n",
      "        status: 0\n",
      "           fun: 3.6861769151759075e-10\n",
      "             x: [ 1.000e+00  1.000e+00]\n",
      "           nit: 79\n",
      "          nfev: 146\n",
      " final_simplex: (array([[ 1.000e+00,  1.000e+00],\n",
      "                       [ 1.000e+00,  9.999e-01],\n",
      "                       [ 1.000e+00,  1.000e+00]]), array([ 3.686e-10,  1.636e-09,  2.022e-09]))\n"
     ]
    }
   ],
   "source": [
    "from scipy.optimize import minimize\n",
    "\n",
    "# Define the Rosenbrock function\n",
    "def rosenbrock(x, a, b):\n",
    "    return (a - x[0])**2 + b*(x[1] - x[0]**2)**2\n",
    "\n",
    "# Define the initial guess\n",
    "X0 = [0, 0]\n",
    "\n",
    "# Define parameters a and b\n",
    "a = 1\n",
    "b = 100\n",
    "\n",
    "# Optimize using the Nelder-Mead method\n",
    "out = minimize(rosenbrock, X0, args=(a, b), method='Nelder-Mead')\n",
    "\n",
    "print(out)\n"
   ]
  },
  {
   "cell_type": "code",
   "execution_count": 2,
   "id": "623ae950-00f0-4bb3-afdc-9d21765c41ee",
   "metadata": {},
   "outputs": [
    {
     "name": "stdout",
     "output_type": "stream",
     "text": [
      "  message: CONVERGENCE: NORM_OF_PROJECTED_GRADIENT_<=_PGTOL\n",
      "  success: True\n",
      "   status: 0\n",
      "      fun: 9.138598262812248e-12\n",
      "        x: [ 1.000e+00  1.000e+00]\n",
      "      nit: 21\n",
      "      jac: [ 2.769e-06 -1.400e-06]\n",
      "     nfev: 78\n",
      "     njev: 26\n",
      " hess_inv: <2x2 LbfgsInvHessProduct with dtype=float64>\n"
     ]
    }
   ],
   "source": [
    "from scipy.optimize import minimize\n",
    "\n",
    "# Define the Rosenbrock function\n",
    "def rosenbrock(x, a, b):\n",
    "    return (a - x[0])**2 + b*(x[1] - x[0]**2)**2\n",
    "\n",
    "# Define the initial guess\n",
    "X0 = [0, 0]\n",
    "\n",
    "# Define parameters a and b\n",
    "a = 1\n",
    "b = 100\n",
    "\n",
    "# Optimize using the Nelder-Mead method\n",
    "out = minimize(rosenbrock, X0, args=(a, b), method='L-BFGS-B')\n",
    "\n",
    "print(out)\n"
   ]
  },
  {
   "cell_type": "code",
   "execution_count": 11,
   "id": "7977b176-5439-4bb4-ad88-a52a895186e6",
   "metadata": {},
   "outputs": [
    {
     "name": "stdout",
     "output_type": "stream",
     "text": [
      "       message: Optimization terminated successfully.\n",
      "       success: True\n",
      "        status: 0\n",
      "           fun: 1.300050105548365e-10\n",
      "             x: [ 1.000e+00  1.000e+00]\n",
      "           nit: 53\n",
      "          nfev: 101\n",
      " final_simplex: (array([[ 1.000e+00,  1.000e+00],\n",
      "                       [ 1.000e+00,  1.000e+00],\n",
      "                       [ 1.000e+00,  9.999e-01]]), array([ 1.300e-10,  2.020e-09,  3.323e-09]))\n"
     ]
    }
   ],
   "source": [
    "from scipy.optimize import minimize\n",
    "\n",
    "# Define the Rosenbrock function\n",
    "def rosenbrock(x, a, b):\n",
    "    return (a - x[0])**2 + b*(x[1] - x[0]**2)**2\n",
    "\n",
    "# Define the initial guess\n",
    "X0 = [0, 0]\n",
    "\n",
    "# Define parameters a and b\n",
    "a = 1\n",
    "b = 100\n",
    "\n",
    "# Optimize using the Nelder-Mead method\n",
    "out = minimize(rosenbrock, X0, args=(a, b), method='Nelder-Mead',options={'initial_simplex':[[0,0],[0.1,0],[0,0.2]]})\n",
    "\n",
    "print(out)"
   ]
  },
  {
   "cell_type": "code",
   "execution_count": null,
   "id": "cfafadeb-21ab-4f06-bee9-3ed8afb2360c",
   "metadata": {},
   "outputs": [],
   "source": [
    "from scipy.optimize import minimize\n",
    "\n",
    "# Define the Rosenbrock function\n",
    "def rosenbrock(x, a, b):\n",
    "    return (a - x[0])**2 + b*(x[1] - x[0]**2)**2\n",
    "\n",
    "# Define the initial guess\n",
    "X0 = [0, 0]\n",
    "\n",
    "# Define parameters a and b\n",
    "a = 1\n",
    "b = 100\n",
    "\n",
    "# Optimize using the Nelder-Mead method\n",
    "out = minimize(rosenbrock, X0, args=(a, b), method='Nelder-Mead',options={'initial_simplex':[[0,0],[0.1,0],[0,0.2]],'xat01'=})\n",
    "\n",
    "print(out)"
   ]
  }
 ],
 "metadata": {
  "kernelspec": {
   "display_name": "Python 3 (ipykernel)",
   "language": "python",
   "name": "python3"
  },
  "language_info": {
   "codemirror_mode": {
    "name": "ipython",
    "version": 3
   },
   "file_extension": ".py",
   "mimetype": "text/x-python",
   "name": "python",
   "nbconvert_exporter": "python",
   "pygments_lexer": "ipython3",
   "version": "3.10.12"
  }
 },
 "nbformat": 4,
 "nbformat_minor": 5
}
