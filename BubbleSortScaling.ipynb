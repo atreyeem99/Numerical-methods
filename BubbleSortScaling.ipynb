{
 "cells": [
  {
   "cell_type": "markdown",
   "id": "1720f3eb",
   "metadata": {},
   "source": [
    "# Exercise to determine the computational scaling of bubble sort"
   ]
  },
  {
   "cell_type": "code",
   "execution_count": 1,
   "id": "896f3722",
   "metadata": {},
   "outputs": [],
   "source": [
    "import numpy as np\n",
    "import matplotlib.pyplot as plt"
   ]
  },
  {
   "cell_type": "markdown",
   "id": "655af018",
   "metadata": {},
   "source": [
    "## Bubble sort function"
   ]
  },
  {
   "cell_type": "code",
   "execution_count": 2,
   "id": "c5391f42",
   "metadata": {},
   "outputs": [],
   "source": [
    "import time\n",
    "\n",
    "def bubble_sort(arr):\n",
    "    \n",
    "    start_time = time.time()\n",
    "\n",
    "    n = len(arr)\n",
    "    \n",
    "    for i in range(0,n-1):\n",
    "        for j in range(i+1,n):\n",
    "            if arr[j] < arr[i]:\n",
    "                arr[j], arr[i] = arr[i], arr[j]\n",
    "    \n",
    "    end_time = time.time()\n",
    "    \n",
    "    elapsed_time = end_time - start_time\n",
    "    \n",
    "    return arr, elapsed_time"
   ]
  },
  {
   "cell_type": "markdown",
   "id": "9f22b370",
   "metadata": {},
   "source": [
    "## Define the sizes of the array to sort"
   ]
  },
  {
   "cell_type": "code",
   "execution_count": 3,
   "id": "8005752b",
   "metadata": {},
   "outputs": [
    {
     "name": "stdout",
     "output_type": "stream",
     "text": [
      "[ 0  1  2  3  4  5  6  7  8  9 10 11 12]\n",
      "[   1    2    4    8   16   32   64  128  256  512 1024 2048 4096]\n"
     ]
    }
   ],
   "source": [
    "powers=np.arange(0,13)\n",
    "print(powers)\n",
    "\n",
    "sizes=2**powers\n",
    "print(sizes)"
   ]
  },
  {
   "cell_type": "markdown",
   "id": "592a2e5f",
   "metadata": {},
   "source": [
    "## Prepare of arrays of sizes (N) and CPU time (t)"
   ]
  },
  {
   "cell_type": "code",
   "execution_count": 4,
   "id": "8ba18065",
   "metadata": {},
   "outputs": [
    {
     "name": "stdout",
     "output_type": "stream",
     "text": [
      "1 1.9073486328125e-06\n",
      "2 5.0067901611328125e-06\n",
      "4 6.9141387939453125e-06\n",
      "8 1.9788742065429688e-05\n",
      "16 6.604194641113281e-05\n",
      "32 0.0002880096435546875\n",
      "64 0.0010671615600585938\n",
      "128 0.0042629241943359375\n",
      "256 0.015902996063232422\n",
      "512 0.06865501403808594\n",
      "1024 0.2658860683441162\n",
      "2048 1.0674259662628174\n",
      "4096 4.296817779541016\n"
     ]
    }
   ],
   "source": [
    "N=[]\n",
    "t=[]\n",
    "for size in sizes:\n",
    "    arr = np.random.uniform(-100.0, 100.0,size=size)\n",
    "    sorted_arr,elapsed_time = bubble_sort(arr)\n",
    "    N.append(size)\n",
    "    t.append(elapsed_time)\n",
    "    print(size,elapsed_time)\n",
    "\n",
    "N=np.array(N)\n",
    "t=np.array(t)"
   ]
  },
  {
   "cell_type": "markdown",
   "id": "e1ea88b5",
   "metadata": {},
   "source": [
    "##  Fit to a polynomial of degree = 1 (straight line) using `numpy`"
   ]
  },
  {
   "cell_type": "markdown",
   "id": "cf96d929",
   "metadata": {},
   "source": [
    "Let us fit $t$ to a polynomial $t=c_1N+c_0$"
   ]
  },
  {
   "cell_type": "code",
   "execution_count": 5,
   "id": "0ffaafa1",
   "metadata": {},
   "outputs": [
    {
     "name": "stdout",
     "output_type": "stream",
     "text": [
      "[ 0.00095845 -0.16386719]\n"
     ]
    }
   ],
   "source": [
    "degree = 1  # degree of the polynomial\n",
    "\n",
    "coefficients = np.polyfit(N, t, degree)\n",
    "print(coefficients)"
   ]
  },
  {
   "cell_type": "code",
   "execution_count": 6,
   "id": "3d9bdde2",
   "metadata": {},
   "outputs": [
    {
     "name": "stdout",
     "output_type": "stream",
     "text": [
      " \n",
      "0.0009585 x - 0.1639\n"
     ]
    }
   ],
   "source": [
    "# Print the polynomial\n",
    "p = np.poly1d(coefficients)\n",
    "\n",
    "print(p)"
   ]
  },
  {
   "cell_type": "code",
   "execution_count": 7,
   "id": "401154be",
   "metadata": {},
   "outputs": [],
   "source": [
    "polynomial = np.poly1d(coefficients) # prepares polynomial function to apply"
   ]
  },
  {
   "cell_type": "markdown",
   "id": "5088f473",
   "metadata": {},
   "source": [
    "Apply the polynomial to find the fitted values of time."
   ]
  },
  {
   "cell_type": "code",
   "execution_count": 8,
   "id": "ad3d7b70",
   "metadata": {},
   "outputs": [
    {
     "name": "stdout",
     "output_type": "stream",
     "text": [
      "[-0.16290874 -0.16195029 -0.16003338 -0.15619957 -0.14853196 -0.13319673\n",
      " -0.10252627 -0.04118535  0.08149648  0.32686015  0.8175875   1.79904218\n",
      "  3.76195155]\n"
     ]
    }
   ],
   "source": [
    "fitted_t = polynomial(N)\n",
    "print(fitted_t) # compare these to the actual CPU time"
   ]
  },
  {
   "cell_type": "markdown",
   "id": "8b509589",
   "metadata": {},
   "source": [
    "Plot the data"
   ]
  },
  {
   "cell_type": "code",
   "execution_count": 9,
   "id": "63956b9a",
   "metadata": {},
   "outputs": [
    {
     "data": {
      "image/png": "[encoded data removed]",
      "text/plain": [
       "<Figure size 640x480 with 1 Axes>"
      ]
     },
     "metadata": {},
     "output_type": "display_data"
    }
   ],
   "source": [
    "plt.rcParams.update({'font.size': 14, 'font.family': 'Arial'}) \n",
    "\n",
    "plt.scatter(N, t, label='Actual time')\n",
    "plt.plot(N, fitted_t, label=f'Fitted time', color='red')\n",
    "\n",
    "plt.xlabel('Size')\n",
    "plt.ylabel('Time (s)')\n",
    "plt.legend()\n",
    "plt.title('Fitted time')\n",
    "plt.tight_layout()\n",
    "plt.savefig(\"bubblesort_scaling_linear.png\")\n",
    "plt.show()"
   ]
  },
  {
   "cell_type": "markdown",
   "id": "75e40259",
   "metadata": {},
   "source": [
    "##  Fit to a polynomial of degree = 2 (quadratic function) using `numpy`"
   ]
  },
  {
   "cell_type": "markdown",
   "id": "bf58b09f",
   "metadata": {},
   "source": [
    "Let us fit $t$ to a polynomial $t=c_2N^2+c_1N+c_0$"
   ]
  },
  {
   "cell_type": "code",
   "execution_count": 10,
   "id": "01871de0",
   "metadata": {},
   "outputs": [
    {
     "name": "stdout",
     "output_type": "stream",
     "text": [
      "           2\n",
      "2.573e-07 x - 4.953e-06 x + 0.0004593\n"
     ]
    }
   ],
   "source": [
    "degree = 2  # degree of the polynomial\n",
    "\n",
    "coefficients = np.polyfit(N, t, degree)\n",
    "\n",
    "p = np.poly1d(coefficients)\n",
    "\n",
    "print(p)"
   ]
  },
  {
   "cell_type": "code",
   "execution_count": 11,
   "id": "d5d6604b",
   "metadata": {},
   "outputs": [
    {
     "data": {
      "image/png": "[encoded data removed]",
      "text/plain": [
       "<Figure size 640x480 with 1 Axes>"
      ]
     },
     "metadata": {},
     "output_type": "display_data"
    }
   ],
   "source": [
    "polynomial = np.poly1d(coefficients) \n",
    "fitted_t = polynomial(N)\n",
    "\n",
    "plt.rcParams.update({'font.size': 14, 'font.family': 'Arial'}) \n",
    "\n",
    "plt.scatter(N, t, label='Actual time')\n",
    "plt.plot(N, fitted_t, label=f'Fitted time', color='red')\n",
    "\n",
    "plt.xlabel('Size')\n",
    "plt.ylabel('Time (s)')\n",
    "plt.legend()\n",
    "plt.title('Fitted time')\n",
    "plt.tight_layout()\n",
    "plt.savefig(\"bubblesort_scaling_quadratic.png\")\n",
    "plt.show()"
   ]
  },
  {
   "cell_type": "markdown",
   "id": "ab9badcd",
   "metadata": {},
   "source": [
    "The quadratic function explains the data, so the scaling quadratic. In otherwords, the CPU time of bubble sort scales as $\\mathcal{O}(N^2)$."
   ]
  }
 ],
 "metadata": {
  "kernelspec": {
   "display_name": "Python 3 (ipykernel)",
   "language": "python",
   "name": "python3"
  },
  "language_info": {
   "codemirror_mode": {
    "name": "ipython",
    "version": 3
   },
   "file_extension": ".py",
   "mimetype": "text/x-python",
   "name": "python",
   "nbconvert_exporter": "python",
   "pygments_lexer": "ipython3",
   "version": "3.10.12"
  }
 },
 "nbformat": 4,
 "nbformat_minor": 5
}
