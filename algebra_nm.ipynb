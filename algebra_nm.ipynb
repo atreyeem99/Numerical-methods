{
 "cells": [
  {
   "cell_type": "code",
   "execution_count": 1,
   "id": "d88bcc3b-594d-48cb-ac54-70d94f712085",
   "metadata": {},
   "outputs": [
    {
     "name": "stdout",
     "output_type": "stream",
     "text": [
      "['fixed_root_while.ipynb', 'Untitled.ipynb', 'matrix_data.txt', 'Moursund_NumericalAnalysis_1988.pdf', 'exam', 'Untitled1.ipynb', 'matrix.ipynb', 'Untitled9.ipynb', 'Untitled7.ipynb', '__pycache__', 'bisection.ipynb', 'NM2024.pdf', 'legrange_hermitian.ipynb', 'Untitled8.ipynb', 'fixed_root_iteration.ipynb', 'kepler.ipynb', 'Untitled2.ipynb', 'algebra_nm.ipynb', 'Exercise_3_plot_seidel.ipynb', 'Stressen.ipynb', 'Exercises.ipynb', 'flopcount.ipynb', 'Scipy.ipynb', 'matrixA.txt', 'cobweb.png', 'Untitled4.ipynb', 'Untitled5.ipynb', 'algebra.py', 'surajit_str.xyz', 'Untitled3.ipynb', '.ipynb_checkpoints', 'Untitled6.ipynb']\n"
     ]
    }
   ],
   "source": [
    "import os\n",
    "print (os.listdir('/home/atreyee/numerical_methods'))"
   ]
  },
  {
   "cell_type": "code",
   "execution_count": 2,
   "id": "605724de-e407-4190-80b2-548dadad9c75",
   "metadata": {},
   "outputs": [
    {
     "name": "stdout",
     "output_type": "stream",
     "text": [
      "Square of 5: 25\n",
      "Sum of 5 and 7: 12\n"
     ]
    }
   ],
   "source": [
    "import sys\n",
    "# Add the directory containing the user-defined module to the system path\n",
    "sys.path.append('/home/atreyee/numerical_methods')\n",
    "\n",
    "from algebra import square as my_sqr\n",
    "from algebra import add as my_add\n",
    "\n",
    "print(f\"Square of 5: {my_sqr(5)}\")\n",
    "print(f\"Sum of 5 and 7: {my_add(5, 7)}\")"
   ]
  },
  {
   "cell_type": "code",
   "execution_count": null,
   "id": "4831f0f5-1b96-4315-8ca3-d282e4b65bd6",
   "metadata": {},
   "outputs": [],
   "source": []
  }
 ],
 "metadata": {
  "kernelspec": {
   "display_name": "Python 3 (ipykernel)",
   "language": "python",
   "name": "python3"
  },
  "language_info": {
   "codemirror_mode": {
    "name": "ipython",
    "version": 3
   },
   "file_extension": ".py",
   "mimetype": "text/x-python",
   "name": "python",
   "nbconvert_exporter": "python",
   "pygments_lexer": "ipython3",
   "version": "3.10.12"
  }
 },
 "nbformat": 4,
 "nbformat_minor": 5
}
