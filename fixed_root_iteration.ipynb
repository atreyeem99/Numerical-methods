{
 "cells": [
  {
   "cell_type": "code",
   "execution_count": 2,
   "id": "6fcf5818-589a-470f-8c18-bd22fe8fc18c",
   "metadata": {},
   "outputs": [],
   "source": [
    "def g(x,A):\n",
    "    val=(x+(A/x))/2\n",
    "    return val"
   ]
  },
  {
   "cell_type": "code",
   "execution_count": 3,
   "id": "94e6939d-e87d-4fd5-875e-022cb85693ce",
   "metadata": {},
   "outputs": [],
   "source": [
    "A=5"
   ]
  },
  {
   "cell_type": "code",
   "execution_count": 4,
   "id": "a9cd534d-a6dd-4f46-804d-d53f7e72f32d",
   "metadata": {},
   "outputs": [],
   "source": [
    "x0=1"
   ]
  },
  {
   "cell_type": "code",
   "execution_count": 5,
   "id": "52057e6f-ebd7-4323-b37b-d0d568e5aa52",
   "metadata": {},
   "outputs": [
    {
     "name": "stdout",
     "output_type": "stream",
     "text": [
      "3.0\n"
     ]
    }
   ],
   "source": [
    "x1=g(x0,A)\n",
    "print(x1)"
   ]
  },
  {
   "cell_type": "code",
   "execution_count": 6,
   "id": "b4a982ec-7df0-400e-a20b-f0afd7f17a20",
   "metadata": {},
   "outputs": [
    {
     "name": "stdout",
     "output_type": "stream",
     "text": [
      "2.3333333333333335\n"
     ]
    }
   ],
   "source": [
    "x2=g(x1,A)\n",
    "print(x2)"
   ]
  },
  {
   "cell_type": "code",
   "execution_count": 7,
   "id": "54b4196c-f8f1-43e5-abb7-99ee8ed19264",
   "metadata": {},
   "outputs": [
    {
     "name": "stdout",
     "output_type": "stream",
     "text": [
      "2.238095238095238\n"
     ]
    }
   ],
   "source": [
    "x3=g(x2,A)\n",
    "print(x3)"
   ]
  },
  {
   "cell_type": "code",
   "execution_count": 8,
   "id": "0f9a0d92-b645-4acd-87a9-28fa00c778ad",
   "metadata": {},
   "outputs": [
    {
     "name": "stdout",
     "output_type": "stream",
     "text": [
      "2.2360688956433634\n"
     ]
    }
   ],
   "source": [
    "x4=g(x3,A)\n",
    "print(x4)"
   ]
  },
  {
   "cell_type": "code",
   "execution_count": 9,
   "id": "d82d0064-60fe-4f6c-af9c-01fee4299598",
   "metadata": {},
   "outputs": [
    {
     "name": "stdout",
     "output_type": "stream",
     "text": [
      "2.23606797749979\n"
     ]
    }
   ],
   "source": [
    "import numpy\n",
    "print(numpy.sqrt(5))"
   ]
  },
  {
   "cell_type": "code",
   "execution_count": 10,
   "id": "7b78b5be-ae2e-46e8-b130-56254a3e6a3a",
   "metadata": {},
   "outputs": [
    {
     "name": "stdout",
     "output_type": "stream",
     "text": [
      "0 1 3.0\n",
      "1 3.0 2.3333333333333335\n",
      "2 2.3333333333333335 2.238095238095238\n",
      "3 2.238095238095238 2.2360688956433634\n"
     ]
    }
   ],
   "source": [
    "# Number, whose square root we want to find\n",
    "A=5\n",
    "\n",
    "# Maximum number of steps\n",
    "MaxIter=4\n",
    "\n",
    "# Start with a guess\n",
    "xold=1\n",
    "\n",
    "# Iterate\n",
    "for n in range(MaxIter):\n",
    "    xnew=g(xold,A)\n",
    "    print(n,xold,xnew)\n",
    "    xold=xnew"
   ]
  },
  {
   "cell_type": "code",
   "execution_count": 11,
   "id": "41da19e0-71c6-477d-a38d-40fa4d61fea9",
   "metadata": {},
   "outputs": [
    {
     "name": "stdout",
     "output_type": "stream",
     "text": [
      "    0      1.00000000      3.00000000\n",
      "    1      3.00000000      2.33333333\n",
      "    2      2.33333333      2.23809524\n",
      "    3      2.23809524      2.23606890\n"
     ]
    }
   ],
   "source": [
    "# Number, whose square root we want to find\n",
    "A=5\n",
    "\n",
    "# Maximum number of steps\n",
    "MaxIter=4\n",
    "\n",
    "# Start with a guess\n",
    "xold=1\n",
    "\n",
    "# Iterate\n",
    "for n in range(MaxIter):\n",
    "    xnew=g(xold,A)\n",
    "    fstr = \"{:5d} {:15.8f} {:15.8f}\".format(n, xold, xnew)\n",
    "    print(fstr)\n",
    "    xold=xnew\n"
   ]
  },
  {
   "cell_type": "code",
   "execution_count": 12,
   "id": "1da4fb67-c413-4284-bfc7-60e9299cd874",
   "metadata": {},
   "outputs": [
    {
     "name": "stdout",
     "output_type": "stream",
     "text": [
      "    0      1.00000000      3.00000000\n",
      "    1      3.00000000      2.33333333\n",
      "    2      2.33333333      2.23809524\n",
      "    3      2.23809524      2.23606890\n"
     ]
    }
   ],
   "source": [
    "# Number, whose square root we want to find\n",
    "A=5\n",
    "\n",
    "# Maximum number of steps\n",
    "MaxIter=4\n",
    "\n",
    "# Start with a guess\n",
    "xold=1\n",
    "\n",
    "# Iterate\n",
    "for n in range(MaxIter):\n",
    "    xnew=g(xold,A)\n",
    "    output = \"{val1:5d} {val2:15.8f} {val3:15.8f}\"\n",
    "    print(output.format(val1=n, val2=xold, val3=xnew))\n",
    "    xold=xnew\n"
   ]
  },
  {
   "cell_type": "code",
   "execution_count": 13,
   "id": "1c9a1b85-b977-4309-9fc8-7ea66168ba30",
   "metadata": {},
   "outputs": [
    {
     "name": "stdout",
     "output_type": "stream",
     "text": [
      "0 1 3.0\n",
      "1 3.0 2.3333333333333335\n",
      "2 2.3333333333333335 2.238095238095238\n",
      "3 2.238095238095238 2.2360688956433634\n"
     ]
    }
   ],
   "source": [
    "# Number, whose square root we want to find\n",
    "A = 5\n",
    "\n",
    "# Maximum number of steps\n",
    "MaxIter = 4\n",
    "\n",
    "# Start with a guess\n",
    "xold = 1\n",
    "\n",
    "# Initialize iteration counter\n",
    "n = 0\n",
    "\n",
    "# Iterate using a while loop\n",
    "while n < MaxIter:\n",
    "    xnew = g(xold, A)\n",
    "    print(n, xold, xnew)\n",
    "    xold = xnew\n",
    "    n += 1\n"
   ]
  },
  {
   "cell_type": "code",
   "execution_count": 14,
   "id": "d8a158aa-3362-41e6-950d-48651691898f",
   "metadata": {},
   "outputs": [
    {
     "name": "stdout",
     "output_type": "stream",
     "text": [
      "    0      1.00000000      3.00000000\n",
      "    1      3.00000000      2.33333333\n",
      "    2      2.33333333      2.23809524\n",
      "    3      2.23809524      2.23606890\n"
     ]
    }
   ],
   "source": [
    "# Number, whose square root we want to find\n",
    "A = 5\n",
    "\n",
    "# Maximum number of steps\n",
    "MaxIter = 4\n",
    "\n",
    "# Start with a guess\n",
    "xold = 1\n",
    "\n",
    "# Initialize iteration counter\n",
    "n = 0\n",
    "\n",
    "# Iterate using a while loop\n",
    "while n < MaxIter:\n",
    "    xnew = g(xold, A)\n",
    "    output = \"{val1:5d} {val2:15.8f} {val3:15.8f}\"\n",
    "    print(output.format(val1=n, val2=xold, val3=xnew))\n",
    "    #print(n, xold, xnew)\n",
    "    xold = xnew\n",
    "    n += 1\n"
   ]
  },
  {
   "cell_type": "code",
   "execution_count": 15,
   "id": "4843055a-d7bd-4cba-ba52-0b9ee336fc45",
   "metadata": {},
   "outputs": [
    {
     "name": "stdout",
     "output_type": "stream",
     "text": [
      "0 1 3.0\n",
      "1 3.0 2.3333333333333335\n",
      "2 2.3333333333333335 2.238095238095238\n",
      "3 2.238095238095238 2.2360688956433634\n",
      "4 2.2360688956433634 2.236067977499978\n"
     ]
    }
   ],
   "source": [
    "# Function to calculate the next approximation\n",
    "#def g(x, A):\n",
    "#    return 0.5 * (x + A / x)\n",
    "\n",
    "# Number, whose square root we want to find\n",
    "A = 5\n",
    "\n",
    "# Tolerance for stopping the iteration\n",
    "tolerance = 1e-6\n",
    "\n",
    "# Start with a guess\n",
    "xold = 1\n",
    "\n",
    "# Initialize iteration counter\n",
    "n = 0\n",
    "\n",
    "# Iterate using a while loop until the tolerance is met\n",
    "while True:\n",
    "    xnew = g(xold, A)\n",
    "    print(n, xold, xnew)\n",
    "\n",
    "    # Check if the difference is smaller than the tolerance\n",
    "    if abs(xnew - xold) < tolerance:\n",
    "        break\n",
    "\n",
    "    xold = xnew\n",
    "    n += 1\n"
   ]
  },
  {
   "cell_type": "code",
   "execution_count": 16,
   "id": "af431a27-83e3-4415-a42e-186f4cd71dbd",
   "metadata": {},
   "outputs": [
    {
     "name": "stdout",
     "output_type": "stream",
     "text": [
      "    n      x_n             x_(n+1)         |x_n-x^*|      upper-bound\n",
      "    0      0.30000000      1.29590890      1.93606798\n",
      "    1      1.29590890      3.63175484      0.94015908\n",
      "    2      3.63175484      4.86765153      1.39568686      5.50109528\n",
      "    3      4.86765153      4.96154296      2.63158355     12.90249654\n",
      "    4      4.96154296      4.96498942      2.72547499     30.26204933\n",
      "    5      4.96498942      4.96510988      2.72892145     70.97786285\n",
      "    6      4.96510988      4.96511408      2.72904190    166.47441684\n",
      "    7      4.96511408      4.96511423      2.72904610    390.45598658\n",
      "    8      4.96511423      4.96511423      2.72904625    915.79162944\n",
      "    9      4.96511423      4.96511423      2.72904625   2147.93558651\n",
      "\n",
      " Error bound estimated using k = 2.3454\n"
     ]
    }
   ],
   "source": [
    "import numpy as np\n",
    "import math\n",
    "def g(x,A):\n",
    "    val=A*(1-math.exp(-x))\n",
    "    return val\n",
    "\n",
    "A=5\n",
    "\n",
    "x_exact=np.sqrt(A)\n",
    "\n",
    "b=3\n",
    "a=2\n",
    "\n",
    "MaxIter=10\n",
    "\n",
    "xold=0.3\n",
    "\n",
    "print('    n      x_n             x_(n+1)         |x_n-x^*|      upper-bound')\n",
    "\n",
    "for n in range(MaxIter):\n",
    "    \n",
    "    xnew=g(xold,A)\n",
    "    \n",
    "    ratio=1\n",
    "    \n",
    "    if n == 0:\n",
    "        x0=xold\n",
    "        x1=xnew\n",
    "        \n",
    "    if n == 1:\n",
    "        x2=xnew\n",
    "        k=np.abs((x2-x1)/(x1-x0))\n",
    "        \n",
    "    error=np.abs(x_exact-xold)\n",
    "    \n",
    "    if n > 1:\n",
    "    \n",
    "        upperbound_error=(b-a)*k**n\n",
    "    \n",
    "        output = \"{val1:5d} {val2:15.8f} {val3:15.8f} {val4:15.8f} {val5:15.8f}\"\n",
    "    \n",
    "        print(output.format(val1=n, val2=xold, val3=xnew, val4=error, val5=upperbound_error))\n",
    "    else:\n",
    "        output = \"{val1:5d} {val2:15.8f} {val3:15.8f} {val4:15.8f}\"\n",
    "    \n",
    "        print(output.format(val1=n, val2=xold, val3=xnew, val4=error))\n",
    "    \n",
    "    xold=xnew\n",
    "    \n",
    "output = \"\\n Error bound estimated using k = {val1:6.4f}\"\n",
    "print(output.format(val1=k))"
   ]
  },
  {
   "cell_type": "code",
   "execution_count": 17,
   "id": "a6711ee3-8b0e-45f6-89e9-232c391d9072",
   "metadata": {},
   "outputs": [
    {
     "name": "stdout",
     "output_type": "stream",
     "text": [
      "    n      x_n             x_(n+1)         |x_n-x^*|      upper-bound\n",
      "    0     -5.00000000     -0.69314718      7.23606798\n",
      "    1     -0.69314718     -0.12982529      2.92921516\n",
      "    2     -0.12982529     -0.02563369      2.36589327      0.01710776\n",
      "    3     -0.02563369     -0.00511364      2.26170167      0.00223764\n",
      "    4     -0.00511364     -0.00102221      2.24118162      0.00029268\n",
      "    5     -0.00102221     -0.00020442      2.23709018      0.00003828\n",
      "    6     -0.00020442     -0.00004088      2.23627240      0.00000501\n",
      "    7     -0.00004088     -0.00000818      2.23610886      0.00000065\n",
      "    8     -0.00000818     -0.00000164      2.23607615      0.00000009\n",
      "    9     -0.00000164     -0.00000033      2.23606961      0.00000001\n",
      "\n",
      " Error bound estimated using k = 0.1308\n"
     ]
    }
   ],
   "source": [
    "import numpy as np\n",
    "import math\n",
    "def g(x,A):\n",
    "    val=-math.log(1-x/A)\n",
    "    return val\n",
    "\n",
    "A=5\n",
    "\n",
    "x_exact=np.sqrt(A)\n",
    "\n",
    "b=3\n",
    "a=2\n",
    "\n",
    "MaxIter=10\n",
    "\n",
    "xold=-5\n",
    "\n",
    "print('    n      x_n             x_(n+1)         |x_n-x^*|      upper-bound')\n",
    "\n",
    "for n in range(MaxIter):\n",
    "    \n",
    "    xnew=g(xold,A)\n",
    "    \n",
    "    ratio=1\n",
    "    \n",
    "    if n == 0:\n",
    "        x0=xold\n",
    "        x1=xnew\n",
    "        \n",
    "    if n == 1:\n",
    "        x2=xnew\n",
    "        k=np.abs((x2-x1)/(x1-x0))\n",
    "        \n",
    "    error=np.abs(x_exact-xold)\n",
    "    \n",
    "    if n > 1:\n",
    "    \n",
    "        upperbound_error=(b-a)*k**n\n",
    "    \n",
    "        output = \"{val1:5d} {val2:15.8f} {val3:15.8f} {val4:15.8f} {val5:15.8f}\"\n",
    "    \n",
    "        print(output.format(val1=n, val2=xold, val3=xnew, val4=error, val5=upperbound_error))\n",
    "    else:\n",
    "        output = \"{val1:5d} {val2:15.8f} {val3:15.8f} {val4:15.8f}\"\n",
    "    \n",
    "        print(output.format(val1=n, val2=xold, val3=xnew, val4=error))\n",
    "    \n",
    "    xold=xnew\n",
    "    \n",
    "output = \"\\n Error bound estimated using k = {val1:6.4f}\"\n",
    "print(output.format(val1=k))"
   ]
  },
  {
   "cell_type": "code",
   "execution_count": 18,
   "id": "7fe78d96-4e9f-4f6c-9c54-44982d5b1d9e",
   "metadata": {},
   "outputs": [
    {
     "name": "stdout",
     "output_type": "stream",
     "text": [
      "    n      x_n             x_(n+1)    \n",
      "    0      1.00000000      3.16060279      1.23606798\n",
      "    1      3.16060279      4.78799913      0.92453482\n",
      "    2      4.78799913      4.95835447      2.55193115      0.56733137\n",
      "    3      4.95835447      4.96487761      2.72228649      0.42732195\n",
      "    4      4.96487761      4.96510598      2.72880964      0.32186488\n",
      "    5      4.96510598      4.96511394      2.72903800      0.24243315\n",
      "    6      4.96511394      4.96511422      2.72904597      0.18260405\n",
      "    7      4.96511422      4.96511423      2.72904624      0.13753993\n",
      "    8      4.96511423      4.96511423      2.72904625      0.10359700\n",
      "    9      4.96511423      4.96511423      2.72904625      0.07803072\n",
      "\n",
      " Error bound estimated using k = 0.7532\n"
     ]
    }
   ],
   "source": [
    "import numpy as np\n",
    "import math\n",
    "def g(x,A):\n",
    "    val=A*(1-math.exp(-x))\n",
    "    return val\n",
    "\n",
    "A=5\n",
    "\n",
    "x_exact=np.sqrt(A)\n",
    "\n",
    "b=3\n",
    "a=2\n",
    "\n",
    "MaxIter=10\n",
    "\n",
    "xold=1\n",
    "\n",
    "print('    n      x_n             x_(n+1)    ')\n",
    "\n",
    "for n in range(MaxIter):\n",
    "    \n",
    "    xnew=g(xold,A)\n",
    "    \n",
    "    ratio=1\n",
    "    \n",
    "    if n == 0:\n",
    "        x0=xold\n",
    "        x1=xnew\n",
    "        \n",
    "    if n == 1:\n",
    "        x2=xnew\n",
    "        k=np.abs((x2-x1)/(x1-x0))\n",
    "        \n",
    "    error=np.abs(x_exact-xold)\n",
    "    \n",
    "    if n > 1:\n",
    "    \n",
    "        upperbound_error=(b-a)*k**n\n",
    "    \n",
    "        output = \"{val1:5d} {val2:15.8f} {val3:15.8f} {val4:15.8f} {val5:15.8f}\"\n",
    "    \n",
    "        print(output.format(val1=n, val2=xold, val3=xnew, val4=error, val5=upperbound_error))\n",
    "    else:\n",
    "        output = \"{val1:5d} {val2:15.8f} {val3:15.8f} {val4:15.8f}\"\n",
    "    \n",
    "        print(output.format(val1=n, val2=xold, val3=xnew, val4=error))\n",
    "    \n",
    "    xold=xnew\n",
    "    \n",
    "output = \"\\n Error bound estimated using k = {val1:6.4f}\"\n",
    "print(output.format(val1=k))"
   ]
  },
  {
   "cell_type": "code",
   "execution_count": 20,
   "id": "18c1f792-b96d-4089-a09a-8ef8f65296ee",
   "metadata": {},
   "outputs": [
    {
     "name": "stdout",
     "output_type": "stream",
     "text": [
      "    n      x_n             x_(n+1)         |x_n-x^*|      upper-bound\n",
      "    0      1.00000000      3.16060279      1.23606798\n"
     ]
    },
    {
     "ename": "ZeroDivisionError",
     "evalue": "float division by zero",
     "output_type": "error",
     "traceback": [
      "\u001b[0;31m---------------------------------------------------------------------------\u001b[0m",
      "\u001b[0;31mZeroDivisionError\u001b[0m                         Traceback (most recent call last)",
      "Cell \u001b[0;32mIn[20], line 25\u001b[0m\n\u001b[1;32m     22\u001b[0m xnew \u001b[38;5;241m=\u001b[39m g(xold, A)\n\u001b[1;32m     24\u001b[0m \u001b[38;5;28;01mif\u001b[39;00m n \u001b[38;5;241m>\u001b[39m \u001b[38;5;241m0\u001b[39m:\n\u001b[0;32m---> 25\u001b[0m     k \u001b[38;5;241m=\u001b[39m np\u001b[38;5;241m.\u001b[39mabs(\u001b[43m(\u001b[49m\u001b[43mxnew\u001b[49m\u001b[43m \u001b[49m\u001b[38;5;241;43m-\u001b[39;49m\u001b[43m \u001b[49m\u001b[43mx1\u001b[49m\u001b[43m)\u001b[49m\u001b[43m \u001b[49m\u001b[38;5;241;43m/\u001b[39;49m\u001b[43m \u001b[49m\u001b[43m(\u001b[49m\u001b[43mx1\u001b[49m\u001b[43m \u001b[49m\u001b[38;5;241;43m-\u001b[39;49m\u001b[43m \u001b[49m\u001b[43mx0\u001b[49m\u001b[43m)\u001b[49m)\n\u001b[1;32m     26\u001b[0m     error \u001b[38;5;241m=\u001b[39m np\u001b[38;5;241m.\u001b[39mabs(x_exact \u001b[38;5;241m-\u001b[39m xold)\n\u001b[1;32m     27\u001b[0m     upperbound_error \u001b[38;5;241m=\u001b[39m (b \u001b[38;5;241m-\u001b[39m a) \u001b[38;5;241m*\u001b[39m k\u001b[38;5;241m*\u001b[39m\u001b[38;5;241m*\u001b[39mn\n",
      "\u001b[0;31mZeroDivisionError\u001b[0m: float division by zero"
     ]
    }
   ],
   "source": [
    "import numpy as np\n",
    "import math\n",
    "\n",
    "def g(x, A):\n",
    "    val = A * (1 - math.exp(-x))\n",
    "    return val\n",
    "\n",
    "A = 5\n",
    "x_exact = np.sqrt(A)\n",
    "b = 3\n",
    "a = 2\n",
    "tolerance = 1e-6  # set your desired tolerance\n",
    "xold = 1\n",
    "\n",
    "n = 0\n",
    "x0 = xold\n",
    "x1 = g(x0, A)\n",
    "\n",
    "print('    n      x_n             x_(n+1)         |x_n-x^*|      upper-bound')\n",
    "\n",
    "while True:\n",
    "    xnew = g(xold, A)\n",
    "\n",
    "    if n > 0:\n",
    "        k = np.abs((xnew - x1) / (x1 - x0))\n",
    "        error = np.abs(x_exact - xold)\n",
    "        upperbound_error = (b - a) * k**n\n",
    "\n",
    "        output = \"{val1:5d} {val2:15.8f} {val3:15.8f} {val4:15.8f} {val5:15.8f}\"\n",
    "        print(output.format(val1=n, val2=xold, val3=xnew, val4=error, val5=upperbound_error))\n",
    "        \n",
    "        if error < tolerance:\n",
    "            break\n",
    "    else:\n",
    "        error = np.abs(x_exact - xold)\n",
    "        output = \"{val1:5d} {val2:15.8f} {val3:15.8f} {val4:15.8f}\"\n",
    "        print(output.format(val1=n, val2=xold, val3=xnew, val4=error))\n",
    "\n",
    "    n += 1\n",
    "    x0 = x1\n",
    "    x1 = xnew\n"
   ]
  },
  {
   "cell_type": "code",
   "execution_count": null,
   "id": "3cfffb15-6514-4a09-8b31-33c2ba19a721",
   "metadata": {},
   "outputs": [],
   "source": []
  },
  {
   "cell_type": "code",
   "execution_count": null,
   "id": "3073a40d-531a-4f64-bfe6-b426ac8c0860",
   "metadata": {},
   "outputs": [],
   "source": []
  },
  {
   "cell_type": "code",
   "execution_count": null,
   "id": "2a7ea6e0-e3b8-4349-9e6f-59584ca43d9e",
   "metadata": {},
   "outputs": [],
   "source": []
  },
  {
   "cell_type": "code",
   "execution_count": null,
   "id": "2e15cad3-4719-43b2-b9b5-11aea39e895d",
   "metadata": {},
   "outputs": [],
   "source": []
  },
  {
   "cell_type": "code",
   "execution_count": null,
   "id": "9b1c8aec-3dbc-4003-bf89-e5a0c2303451",
   "metadata": {},
   "outputs": [],
   "source": []
  }
 ],
 "metadata": {
  "kernelspec": {
   "display_name": "Python 3 (ipykernel)",
   "language": "python",
   "name": "python3"
  },
  "language_info": {
   "codemirror_mode": {
    "name": "ipython",
    "version": 3
   },
   "file_extension": ".py",
   "mimetype": "text/x-python",
   "name": "python",
   "nbconvert_exporter": "python",
   "pygments_lexer": "ipython3",
   "version": "3.10.12"
  }
 },
 "nbformat": 4,
 "nbformat_minor": 5
}
