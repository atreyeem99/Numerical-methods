{
 "cells": [
  {
   "cell_type": "code",
   "execution_count": 5,
   "id": "6a5114d6-bc4d-44ae-bc09-933e8624cb45",
   "metadata": {},
   "outputs": [
    {
     "name": "stdout",
     "output_type": "stream",
     "text": [
      "Error reading matrix from file: could not convert string to float: ''\n"
     ]
    }
   ],
   "source": [
    "import numpy as np\n",
    "\n",
    "def read_matrix_from_file(file_path, rows, cols):\n",
    "    try:\n",
    "        # Read the file and convert data to a 1D array\n",
    "        with open(file_path, 'r') as file:\n",
    "            data = [float(line.strip()) for line in file]\n",
    "\n",
    "        \n",
    "        matrix = np.array(data).reshape(rows, cols)\n",
    "\n",
    "        return matrix\n",
    "\n",
    "    except Exception as e:\n",
    "        print(f\"Error reading matrix from file: {e}\")\n",
    "        return None\n",
    "\n",
    "# Example usage:\n",
    "file_path = 'matrix_data.txt'  # Replace with your file path\n",
    "num_rows = 3\n",
    "num_cols = 4\n",
    "\n",
    "result_matrix = read_matrix_from_file(file_path, num_rows, num_cols)\n",
    "\n",
    "if result_matrix is not None:\n",
    "    print(\"Matrix read from file:\")\n",
    "    print(result_matrix)\n"
   ]
  },
  {
   "cell_type": "code",
   "execution_count": 8,
   "id": "c54077e5-235c-404e-a361-63cc4f5efcb7",
   "metadata": {},
   "outputs": [
    {
     "name": "stdout",
     "output_type": "stream",
     "text": [
      "[[1]\n",
      " [2]\n",
      " [3]\n",
      " [4]]\n"
     ]
    }
   ],
   "source": [
    "def read_matrix_from_file(filename):\n",
    "    \n",
    "    import numpy as np\n",
    "    \n",
    "    matrix = []\n",
    "    \n",
    "    with open(filename, 'r') as file:\n",
    "        \n",
    "        for line in file:\n",
    "            \n",
    "            row = list(map(int, line.strip().split()))\n",
    "            matrix.append(row)\n",
    "            \n",
    "    matrix=np.array(matrix)\n",
    "    \n",
    "    return matrix\n",
    "\n",
    "B = read_matrix_from_file('matrixA.txt')\n",
    "print(B)"
   ]
  },
  {
   "cell_type": "code",
   "execution_count": 7,
   "id": "0ac88b6b-7a1f-4af9-a89e-02b627c2487c",
   "metadata": {},
   "outputs": [
    {
     "name": "stdout",
     "output_type": "stream",
     "text": [
      "[[ 2  3]\n",
      " [ 1 -1]]\n"
     ]
    }
   ],
   "source": [
    "A=np.array([[2,3],[1,-1]])\n",
    "print(A)\n"
   ]
  },
  {
   "cell_type": "code",
   "execution_count": 9,
   "id": "3d6522f4-4984-430a-bc8a-711c27fa4b7b",
   "metadata": {},
   "outputs": [
    {
     "name": "stdout",
     "output_type": "stream",
     "text": [
      "AB:\n",
      "[[ 4 -2]\n",
      " [-1 -6]]\n",
      "BA:\n",
      "[[ 1  8  1]\n",
      " [ 0 -6  2]\n",
      " [ 1  2  3]]\n"
     ]
    }
   ],
   "source": [
    "def matrix_multiply(A, B):\n",
    "    \n",
    "    # Check conformability\n",
    "    if A.shape[1] != B.shape[0]:\n",
    "        raise ValueError(\"Matrices are not conformable for multiplication.\")\n",
    "\n",
    "    # Perform matrix-matrix multiplication\n",
    "    C = np.dot(A, B)\n",
    "\n",
    "    return C\n",
    "\n",
    "A = np.array([[1,2,3],[0,3,-1]])\n",
    "B = np.array([[1,2],[0,-2],[1,0]])\n",
    "\n",
    "C = matrix_multiply(A, B)\n",
    "\n",
    "print(\"AB:\")\n",
    "print(C)\n",
    "\n",
    "D = matrix_multiply(B, A)\n",
    "\n",
    "print(\"BA:\")\n",
    "print(D)"
   ]
  },
  {
   "cell_type": "code",
   "execution_count": 10,
   "id": "39cb80a2-4fa7-4ac4-9359-4d8e783d8171",
   "metadata": {},
   "outputs": [
    {
     "name": "stdout",
     "output_type": "stream",
     "text": [
      "Upper Triangular Matrix:\n",
      "[[ 1.   -0.5   1.5 ]\n",
      " [ 0.    1.   -1.75]\n",
      " [ 0.    0.    1.  ]]\n",
      "\n",
      "Updated Right-Hand Side Vector:\n",
      "[ 4.5        -2.5         1.17948718]\n"
     ]
    }
   ],
   "source": [
    "import numpy as np\n",
    "\n",
    "def convert_to_upper_triangular(matrix, vector):\n",
    "    # Combine the coefficient matrix and the right-hand side vector\n",
    "    augmented_matrix = np.column_stack((matrix, vector))\n",
    "\n",
    "    rows, cols = augmented_matrix.shape\n",
    "\n",
    "    for pivot_row in range(min(rows, cols - 1)):\n",
    "        # Find the pivot element\n",
    "        pivot_element = augmented_matrix[pivot_row, pivot_row]\n",
    "\n",
    "        if pivot_element == 0:\n",
    "            # If the pivot element is zero, swap with a row below to avoid division by zero\n",
    "            nonzero_row = np.argmax(augmented_matrix[pivot_row + 1:, pivot_row]) + pivot_row + 1\n",
    "            augmented_matrix[[pivot_row, nonzero_row]] = augmented_matrix[[nonzero_row, pivot_row]]\n",
    "            pivot_element = augmented_matrix[pivot_row, pivot_row]\n",
    "\n",
    "        # Scale the current row to make the pivot element 1\n",
    "        augmented_matrix[pivot_row, :] /= pivot_element\n",
    "\n",
    "        # Eliminate lower triangular elements in the column\n",
    "        for row in range(pivot_row + 1, rows):\n",
    "            factor = augmented_matrix[row, pivot_row]\n",
    "            augmented_matrix[row, :] -= factor * augmented_matrix[pivot_row, :]\n",
    "\n",
    "    return augmented_matrix[:, :-1], augmented_matrix[:, -1]\n",
    "\n",
    "# Example usage:\n",
    "coeff_matrix = np.array([[2, -1, 3], [4, 2, -1], [3, 5, -2]], dtype=float)\n",
    "rhs_vector = np.array([9, 8, 3], dtype=float)\n",
    "\n",
    "upper_triangular_matrix, new_rhs_vector = convert_to_upper_triangular(coeff_matrix, rhs_vector)\n",
    "\n",
    "print(\"Upper Triangular Matrix:\")\n",
    "print(upper_triangular_matrix)\n",
    "print(\"\\nUpdated Right-Hand Side Vector:\")\n",
    "print(new_rhs_vector)\n"
   ]
  },
  {
   "cell_type": "code",
   "execution_count": null,
   "id": "18269b34-df45-451f-a646-75f47a2889ba",
   "metadata": {},
   "outputs": [],
   "source": []
  }
 ],
 "metadata": {
  "kernelspec": {
   "display_name": "Python 3 (ipykernel)",
   "language": "python",
   "name": "python3"
  },
  "language_info": {
   "codemirror_mode": {
    "name": "ipython",
    "version": 3
   },
   "file_extension": ".py",
   "mimetype": "text/x-python",
   "name": "python",
   "nbconvert_exporter": "python",
   "pygments_lexer": "ipython3",
   "version": "3.10.12"
  }
 },
 "nbformat": 4,
 "nbformat_minor": 5
}
