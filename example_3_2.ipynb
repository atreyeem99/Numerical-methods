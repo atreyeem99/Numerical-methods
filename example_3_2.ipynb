{
 "cells": [
  {
   "cell_type": "code",
   "execution_count": 1,
   "metadata": {},
   "outputs": [],
   "source": [
    "import numpy as np \n",
    "import matplotlib.pyplot as plt "
   ]
  },
  {
   "cell_type": "code",
   "execution_count": 2,
   "metadata": {},
   "outputs": [],
   "source": [
    "def g1(x1,x2):\n",
    "    return x1/4 + x2/8 + 11./8\n",
    "\n",
    "def g2(x1,x2):\n",
    "    return -x1/8 + x2/4 + 1"
   ]
  },
  {
   "cell_type": "code",
   "execution_count": 3,
   "metadata": {},
   "outputs": [
    {
     "name": "stdout",
     "output_type": "stream",
     "text": [
      "    4      2.12500000      1.25000000\n",
      "    6      2.06250000      1.04687500\n",
      "    8      2.02148438      1.00390625\n",
      "   10      2.00585938      0.99829102\n",
      "   12      2.00125122      0.99884033\n",
      "   14      2.00016785      0.99955368\n",
      "   16      1.99998617      0.99986744\n",
      "   18      1.99997997      0.99996859\n",
      "   20      1.99999107      0.99999465\n"
     ]
    }
   ],
   "source": [
    "x_old_1 = 2.\n",
    "x_old_2 = 2. # Initial value\n",
    "\n",
    "x_new_1 = g1(x_old_1,x_old_2)\n",
    "x_new_2 = g2(x_old_1,x_old_2)\n",
    "iteration = 2\n",
    "\n",
    "epsilon = 0.00001\n",
    "\n",
    "while (abs(x_new_1 - 2.) > epsilon) and (abs(x_new_2 - 1.) > epsilon):\n",
    "    x_new_1 = g1(x_old_1,x_old_2)\n",
    "    x_new_2 = g2(x_old_1,x_old_2)\n",
    "    iteration = iteration + 2\n",
    "\n",
    "    print(\"{:5d} {:15.8f} {:15.8f}\".format(iteration, x_new_1, x_new_2))\n",
    "    x_old_1 = x_new_1\n",
    "    x_old_2 = x_new_2"
   ]
  },
  {
   "cell_type": "code",
   "execution_count": null,
   "metadata": {},
   "outputs": [],
   "source": []
  }
 ],
 "metadata": {
  "kernelspec": {
   "display_name": "Python 3",
   "language": "python",
   "name": "python3"
  },
  "language_info": {
   "codemirror_mode": {
    "name": "ipython",
    "version": 3
   },
   "file_extension": ".py",
   "mimetype": "text/x-python",
   "name": "python",
   "nbconvert_exporter": "python",
   "pygments_lexer": "ipython3",
   "version": "3.10.12"
  }
 },
 "nbformat": 4,
 "nbformat_minor": 2
}
