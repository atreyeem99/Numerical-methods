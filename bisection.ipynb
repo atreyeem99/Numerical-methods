{
 "cells": [
  {
   "cell_type": "code",
   "execution_count": 2,
   "id": "bf7327af-6edd-4029-90a4-ec3b7f389b16",
   "metadata": {},
   "outputs": [],
   "source": [
    "def f(x):\n",
    "    val=(x**5)-5\n",
    "    return val"
   ]
  },
  {
   "cell_type": "code",
   "execution_count": null,
   "id": "f8a77e46-0bd5-4e5c-8f15-f93d73cf5202",
   "metadata": {},
   "outputs": [],
   "source": [
    "a=1\n",
    "b=3\n",
    "tolerance_bisection=0.001"
   ]
  },
  {
   "cell_type": "code",
   "execution_count": null,
   "id": "e650c31f-d38e-4c8d-9ebd-a82d18e8d87a",
   "metadata": {},
   "outputs": [],
   "source": []
  },
  {
   "cell_type": "code",
   "execution_count": 1,
   "id": "73ba2f33-1033-4a05-b3be-6c32a4a6edda",
   "metadata": {},
   "outputs": [
    {
     "name": "stdout",
     "output_type": "stream",
     "text": [
      "Bisection method result: 2.23583984375\n",
      "Number of iterations for bisection method: 11\n",
      "\n",
      "Fixed-point iteration method result: 2.236111111111111\n",
      "Number of iterations for fixed-point iteration method: 2\n"
     ]
    }
   ],
   "source": [
    "def bisection_method(a, b, tolerance):\n",
    "    iterations = 0\n",
    "    while (b - a) > tolerance:\n",
    "        midpoint = (a + b) / 2\n",
    "        if midpoint**2 - 5 == 0:\n",
    "            return midpoint, iterations\n",
    "        elif (midpoint**2 - 5) * (a**2 - 5) < 0:\n",
    "            b = midpoint\n",
    "        else:\n",
    "            a = midpoint\n",
    "        iterations += 1\n",
    "    return (a + b) / 2, iterations\n",
    "\n",
    "def fixed_point_iteration(initial_guess, tolerance):\n",
    "    iterations = 0\n",
    "    x = initial_guess\n",
    "    while abs(x**2 - 5) > tolerance:\n",
    "        x = (x + 5 / x) / 2\n",
    "        iterations += 1\n",
    "    return x, iterations\n",
    "\n",
    "if __name__ == \"__main__\":\n",
    "    # Bisection method\n",
    "    a, b = 1, 3\n",
    "    tolerance_bisection = 0.001\n",
    "    result_bisection, iterations_bisection = bisection_method(a, b, tolerance_bisection)\n",
    "\n",
    "    # Fixed-point iteration method\n",
    "    initial_guess = 2\n",
    "    tolerance_fixed_point = 0.001\n",
    "    result_fixed_point, iterations_fixed_point = fixed_point_iteration(initial_guess, tolerance_fixed_point)\n",
    "\n",
    "    print(f\"Bisection method result: {result_bisection}\")\n",
    "    print(f\"Number of iterations for bisection method: {iterations_bisection}\")\n",
    "\n",
    "    print(f\"\\nFixed-point iteration method result: {result_fixed_point}\")\n",
    "    print(f\"Number of iterations for fixed-point iteration method: {iterations_fixed_point}\")\n"
   ]
  },
  {
   "cell_type": "code",
   "execution_count": null,
   "id": "80648f7d-1d7c-4a67-813b-427f5844d207",
   "metadata": {},
   "outputs": [],
   "source": []
  }
 ],
 "metadata": {
  "kernelspec": {
   "display_name": "Python 3 (ipykernel)",
   "language": "python",
   "name": "python3"
  },
  "language_info": {
   "codemirror_mode": {
    "name": "ipython",
    "version": 3
   },
   "file_extension": ".py",
   "mimetype": "text/x-python",
   "name": "python",
   "nbconvert_exporter": "python",
   "pygments_lexer": "ipython3",
   "version": "3.10.12"
  }
 },
 "nbformat": 4,
 "nbformat_minor": 5
}
